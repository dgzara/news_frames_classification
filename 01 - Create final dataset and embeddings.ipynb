{
 "cells": [
  {
   "cell_type": "markdown",
   "metadata": {},
   "source": [
    "# 01 - News articles to Embeddings\n",
    "\n",
    "We preprocess the data and create the following embeddings here:\n",
    "\n",
    "- Beto (Spanish trained version of BERT)\n",
    "- Elmo\n",
    "- FastText"
   ]
  },
  {
   "cell_type": "code",
   "execution_count": 1,
   "metadata": {},
   "outputs": [],
   "source": [
    "# Import libraries\n",
    "import json\n",
    "import pandas as pd\n",
    "import numpy as np\n",
    "import matplotlib.pyplot as plt\n",
    "import nltk\n",
    "import seaborn as sns\n",
    "from nltk.tokenize import RegexpTokenizer\n",
    "from os.path import join, exists\n",
    "from IPython.display import clear_output\n",
    "from collections import Counter\n",
    "from skmultilearn.model_selection import IterativeStratification\n",
    "from scipy.stats import percentileofscore"
   ]
  },
  {
   "cell_type": "code",
   "execution_count": 2,
   "metadata": {},
   "outputs": [],
   "source": [
    "# Download nltk files\n",
    "nltk.download('punkt')\n",
    "clear_output()"
   ]
  },
  {
   "cell_type": "markdown",
   "metadata": {},
   "source": [
    "# Load, pre-process, and create the vocabulary"
   ]
  },
  {
   "cell_type": "code",
   "execution_count": 3,
   "metadata": {},
   "outputs": [
    {
     "data": {
      "text/html": [
       "<div>\n",
       "<style scoped>\n",
       "    .dataframe tbody tr th:only-of-type {\n",
       "        vertical-align: middle;\n",
       "    }\n",
       "\n",
       "    .dataframe tbody tr th {\n",
       "        vertical-align: top;\n",
       "    }\n",
       "\n",
       "    .dataframe thead th {\n",
       "        text-align: right;\n",
       "    }\n",
       "</style>\n",
       "<table border=\"1\" class=\"dataframe\">\n",
       "  <thead>\n",
       "    <tr style=\"text-align: right;\">\n",
       "      <th></th>\n",
       "      <th>original_text</th>\n",
       "      <th>text</th>\n",
       "      <th>frames</th>\n",
       "    </tr>\n",
       "  </thead>\n",
       "  <tbody>\n",
       "    <tr>\n",
       "      <th>0</th>\n",
       "      <td>Japón registró un nuevo déficit comercial réco...</td>\n",
       "      <td>japón registró un nuevo déficit comercial réco...</td>\n",
       "      <td>[0, 1, 0, 0]</td>\n",
       "    </tr>\n",
       "    <tr>\n",
       "      <th>1</th>\n",
       "      <td>UDI acusa \"mala memoria\" de la Nueva Mayoría f...</td>\n",
       "      <td>udi acusa mala memoria de la nueva mayoría fre...</td>\n",
       "      <td>[1, 0, 0, 1]</td>\n",
       "    </tr>\n",
       "    <tr>\n",
       "      <th>2</th>\n",
       "      <td>La misteriosa oferta por Esteban Paredes que i...</td>\n",
       "      <td>la misteriosa oferta por esteban paredes que i...</td>\n",
       "      <td>[1, 0, 0, 0]</td>\n",
       "    </tr>\n",
       "    <tr>\n",
       "      <th>3</th>\n",
       "      <td>La familia maratón que causó revuelo en Holand...</td>\n",
       "      <td>la familia maratón que causó revuelo en holand...</td>\n",
       "      <td>[0, 0, 1, 0]</td>\n",
       "    </tr>\n",
       "    <tr>\n",
       "      <th>4</th>\n",
       "      <td>Crean sitio web que recopila mangas descontin...</td>\n",
       "      <td>crean sitio web que recopila mangas descontinu...</td>\n",
       "      <td>[0, 1, 0, 0]</td>\n",
       "    </tr>\n",
       "  </tbody>\n",
       "</table>\n",
       "</div>"
      ],
      "text/plain": [
       "                                       original_text  \\\n",
       "0  Japón registró un nuevo déficit comercial réco...   \n",
       "1  UDI acusa \"mala memoria\" de la Nueva Mayoría f...   \n",
       "2  La misteriosa oferta por Esteban Paredes que i...   \n",
       "3  La familia maratón que causó revuelo en Holand...   \n",
       "4   Crean sitio web que recopila mangas descontin...   \n",
       "\n",
       "                                                text        frames  \n",
       "0  japón registró un nuevo déficit comercial réco...  [0, 1, 0, 0]  \n",
       "1  udi acusa mala memoria de la nueva mayoría fre...  [1, 0, 0, 1]  \n",
       "2  la misteriosa oferta por esteban paredes que i...  [1, 0, 0, 0]  \n",
       "3  la familia maratón que causó revuelo en holand...  [0, 0, 1, 0]  \n",
       "4  crean sitio web que recopila mangas descontinu...  [0, 1, 0, 0]  "
      ]
     },
     "execution_count": 3,
     "metadata": {},
     "output_type": "execute_result"
    }
   ],
   "source": [
    "# Load dataset\n",
    "df = pd.read_csv('NewsInformation.csv')\n",
    "\n",
    "# Load each news article associated to each df's row.\n",
    "def load_text(code):\n",
    "    text_path = join('TXT', \"{}.txt\".format(code))\n",
    "    if not exists(text_path):\n",
    "        return \"None\"\n",
    "    try:\n",
    "        with open(text_path, encoding=\"UTF-8\") as file:\n",
    "            return file.read().replace(\"\\r\", \"\").replace(\"\\n\", \" \")\n",
    "    except:\n",
    "        with open(text_path, encoding=\"latin-1\") as file:\n",
    "            return file.read().replace(\"\\r\", \"\").replace(\"\\n\", \" \")\n",
    "\n",
    "df[\"original_text\"] = df.code.map(load_text)\n",
    "\n",
    "# Filter None\n",
    "df = df[df[\"original_text\"] != \"None\"]\n",
    "\n",
    "# Apply tokenization and lower case to the text\n",
    "tkr = RegexpTokenizer('[a-zA-Z0-9áéíóú]+')\n",
    "df['text'] = df['original_text'].apply(lambda text: \" \".join([t for t in tkr.tokenize(text) ]).lower() )\n",
    "\n",
    "# Keep frames as a list\n",
    "df['frames'] = [np.array(x) for x in zip(df.conflict_fr.tolist(), df.econ_fr.tolist(), df.humint_fr.tolist(), df.morality_fr.tolist()) ]\n",
    "\n",
    "# Rename and check the dataframe\n",
    "df = df[['original_text', 'text', 'frames']]\n",
    "df.head()"
   ]
  },
  {
   "cell_type": "code",
   "execution_count": 4,
   "metadata": {},
   "outputs": [],
   "source": [
    "# Calculate words' frequency\n",
    "word_list = []\n",
    "word_doc_counter = {}\n",
    "\n",
    "for _, row in df.iterrows():\n",
    "    text = row.text.split()\n",
    "\n",
    "    new_text = []\n",
    "    for word in text:\n",
    "        if word.isnumeric():\n",
    "            new_text.append(\"[NUM]\")\n",
    "        else:\n",
    "            new_text.append(word)\n",
    "\n",
    "    word_list.extend(new_text)\n",
    "    \n",
    "    for word in set(new_text): # Unique words\n",
    "        if word not in word_doc_counter:\n",
    "            word_doc_counter[word] = 0\n",
    "        word_doc_counter[word] += 1\n",
    "\n",
    "counter = Counter(word_list)"
   ]
  },
  {
   "cell_type": "code",
   "execution_count": 5,
   "metadata": {},
   "outputs": [
    {
     "data": {
      "text/plain": [
       "54996"
      ]
     },
     "execution_count": 5,
     "metadata": {},
     "output_type": "execute_result"
    }
   ],
   "source": [
    "# Number of unique words. \n",
    "# Words were counted only once within the text. Frequency is calculated among all documents. \n",
    "n_words = list(word_doc_counter.values())\n",
    "len(n_words)"
   ]
  },
  {
   "cell_type": "code",
   "execution_count": 6,
   "metadata": {},
   "outputs": [
    {
     "data": {
      "image/png": "[encoded data removed]",
      "text/plain": [
       "<Figure size 640x480 with 1 Axes>"
      ]
     },
     "metadata": {},
     "output_type": "display_data"
    }
   ],
   "source": [
    "# Word distribution\n",
    "plt.hist(n_words, bins=200,log=(True,True))\n",
    "plt.show()"
   ]
  },
  {
   "cell_type": "code",
   "execution_count": 7,
   "metadata": {},
   "outputs": [
    {
     "data": {
      "image/png": "[encoded data removed]",
      "text/plain": [
       "<Figure size 640x480 with 1 Axes>"
      ]
     },
     "metadata": {},
     "output_type": "display_data"
    }
   ],
   "source": [
    "# Histogram \n",
    "g = sns.histplot(data=n_words,log_scale=(True,True))\n",
    "g.set_title('Word distribution')\n",
    "g.set_xlabel('# of times')\n",
    "g.set_ylabel('Number of words')\n",
    "plt.savefig('plots/word_distribution.svg', format='svg')\n",
    "plt.show()"
   ]
  },
  {
   "cell_type": "code",
   "execution_count": 8,
   "metadata": {},
   "outputs": [
    {
     "name": "stdout",
     "output_type": "stream",
     "text": [
      "1: 23.527165612044513\n",
      "2: 54.164848352607464\n",
      "3: 64.99836351734672\n",
      "4: 71.16608480616772\n",
      "5: 75.34093388610081\n",
      "6: 78.35660775329114\n",
      "7: 80.6640482944214\n",
      "8: 82.49327223798095\n",
      "9: 83.99792712197251\n"
     ]
    }
   ],
   "source": [
    "# Calculate percentile of these words\n",
    "for i in range(1, 10):\n",
    "    print(str(i) + \": \" + str(percentileofscore(n_words, i)))"
   ]
  },
  {
   "cell_type": "code",
   "execution_count": 9,
   "metadata": {},
   "outputs": [],
   "source": [
    "# We keep words that appear five or more times.\n",
    "K = 5\n",
    "vocabulary = [(word, count) for word, count in counter.items() if word_doc_counter[word] >= K]\n",
    "filtered_n_words = [count for word, count in counter.items() if word_doc_counter[word] >= K]"
   ]
  },
  {
   "cell_type": "code",
   "execution_count": 10,
   "metadata": {},
   "outputs": [],
   "source": [
    "# Sort words by their frequency (bigger to smaller)\n",
    "vocabulary.sort(key=lambda x:x[1])"
   ]
  },
  {
   "cell_type": "code",
   "execution_count": 11,
   "metadata": {},
   "outputs": [
    {
     "data": {
      "image/png": "[encoded data removed]",
      "text/plain": [
       "<Figure size 640x480 with 1 Axes>"
      ]
     },
     "metadata": {},
     "output_type": "display_data"
    }
   ],
   "source": [
    "# Histogram \n",
    "g = sns.histplot(data=filtered_n_words, log_scale=True)\n",
    "g.set_title('Word distribution, frequency equal to or greater than 5')\n",
    "g.set_xlabel('# of times')\n",
    "g.set_ylabel('Number of words')\n",
    "plt.savefig('plots/word_distribution_after_5.svg', format='svg')\n",
    "plt.show()"
   ]
  },
  {
   "cell_type": "code",
   "execution_count": 12,
   "metadata": {},
   "outputs": [
    {
     "data": {
      "text/plain": [
       "0.68903741473162"
      ]
     },
     "execution_count": 12,
     "metadata": {},
     "output_type": "execute_result"
    }
   ],
   "source": [
    "# Percentage of the vocabulary that stays\n",
    "10000/len(filtered_n_words)"
   ]
  },
  {
   "cell_type": "code",
   "execution_count": 13,
   "metadata": {},
   "outputs": [],
   "source": [
    "# Keep only the first 10,000 most frequent terms\n",
    "# The list is ascendent, so we keep the last 10,000 elements.\n",
    "vocabulary = vocabulary[-10000:]"
   ]
  },
  {
   "cell_type": "code",
   "execution_count": 14,
   "metadata": {},
   "outputs": [
    {
     "data": {
      "image/png": "[encoded data removed]",
      "text/plain": [
       "<Figure size 640x480 with 1 Axes>"
      ]
     },
     "metadata": {},
     "output_type": "display_data"
    }
   ],
   "source": [
    "# Histogram \n",
    "final_words = [count for word, count in vocabulary]\n",
    "g = sns.histplot(data=final_words, log_scale=(True,True))\n",
    "g.set_title('Word distribution of the final vocabulary')\n",
    "g.set_xlabel('# of appearances')\n",
    "g.set_ylabel('Frequency')\n",
    "plt.savefig('plots/word_distribution_vocabulary.svg', format='svg')\n",
    "plt.show()"
   ]
  },
  {
   "cell_type": "code",
   "execution_count": 15,
   "metadata": {},
   "outputs": [
    {
     "name": "stdout",
     "output_type": "stream",
     "text": [
      "plantaciones: 10\n",
      "lamentando: 10\n",
      "cerrados: 10\n",
      "alessandro: 10\n",
      "consejero: 10\n",
      "tituló: 10\n",
      "temen: 10\n",
      "cha: 10\n",
      "vih: 10\n",
      "percató: 10\n"
     ]
    }
   ],
   "source": [
    "# Create corpus\n",
    "with open(\"vocabulary_corpus_counter.txt\", \"w\", encoding=\"utf-8\") as file:\n",
    "    for word, count in vocabulary:\n",
    "        file.write(f\"{word}: {count}\\n\")\n",
    "\n",
    "!head -10 vocabulary_corpus_counter.txt"
   ]
  },
  {
   "cell_type": "code",
   "execution_count": 16,
   "metadata": {},
   "outputs": [
    {
     "data": {
      "text/html": [
       "<div>\n",
       "<style scoped>\n",
       "    .dataframe tbody tr th:only-of-type {\n",
       "        vertical-align: middle;\n",
       "    }\n",
       "\n",
       "    .dataframe tbody tr th {\n",
       "        vertical-align: top;\n",
       "    }\n",
       "\n",
       "    .dataframe thead th {\n",
       "        text-align: right;\n",
       "    }\n",
       "</style>\n",
       "<table border=\"1\" class=\"dataframe\">\n",
       "  <thead>\n",
       "    <tr style=\"text-align: right;\">\n",
       "      <th></th>\n",
       "      <th>original_text</th>\n",
       "      <th>preprocess_text</th>\n",
       "      <th>encoded</th>\n",
       "      <th>frames</th>\n",
       "      <th>conflicto</th>\n",
       "      <th>economico</th>\n",
       "      <th>humanidad</th>\n",
       "      <th>moral</th>\n",
       "    </tr>\n",
       "  </thead>\n",
       "  <tbody>\n",
       "    <tr>\n",
       "      <th>0</th>\n",
       "      <td>Japón registró un nuevo déficit comercial réco...</td>\n",
       "      <td>japón registró un nuevo déficit comercial réco...</td>\n",
       "      <td>[8759, 8914, 9989, 9898, 6584, 8773, 8428, 999...</td>\n",
       "      <td>[0, 1, 0, 0]</td>\n",
       "      <td>0</td>\n",
       "      <td>1</td>\n",
       "      <td>0</td>\n",
       "      <td>0</td>\n",
       "    </tr>\n",
       "    <tr>\n",
       "      <th>1</th>\n",
       "      <td>UDI acusa \"mala memoria\" de la Nueva Mayoría f...</td>\n",
       "      <td>udi acusa mala memoria de la nueva mayoría fre...</td>\n",
       "      <td>[9610, 8486, 8448, 7205, 10001, 9999, 9927, 97...</td>\n",
       "      <td>[1, 0, 0, 1]</td>\n",
       "      <td>1</td>\n",
       "      <td>0</td>\n",
       "      <td>0</td>\n",
       "      <td>1</td>\n",
       "    </tr>\n",
       "    <tr>\n",
       "      <th>2</th>\n",
       "      <td>La misteriosa oferta por Esteban Paredes que i...</td>\n",
       "      <td>la misteriosa oferta por esteban paredes que [...</td>\n",
       "      <td>[9999, 1121, 8346, 9990, 8487, 8596, 9996, 1, ...</td>\n",
       "      <td>[1, 0, 0, 0]</td>\n",
       "      <td>1</td>\n",
       "      <td>0</td>\n",
       "      <td>0</td>\n",
       "      <td>0</td>\n",
       "    </tr>\n",
       "    <tr>\n",
       "      <th>3</th>\n",
       "      <td>La familia maratón que causó revuelo en Holand...</td>\n",
       "      <td>la familia maratón que causó revuelo en holand...</td>\n",
       "      <td>[9999, 9668, 5417, 9996, 7388, 2016, 9997, 887...</td>\n",
       "      <td>[0, 0, 1, 0]</td>\n",
       "      <td>0</td>\n",
       "      <td>0</td>\n",
       "      <td>1</td>\n",
       "      <td>0</td>\n",
       "    </tr>\n",
       "    <tr>\n",
       "      <th>4</th>\n",
       "      <td>Crean sitio web que recopila mangas descontin...</td>\n",
       "      <td>crean sitio web que [UNK] [UNK] [UNK] para [UN...</td>\n",
       "      <td>[2420, 9319, 9360, 9996, 1, 1, 1, 9985, 1, 998...</td>\n",
       "      <td>[0, 1, 0, 0]</td>\n",
       "      <td>0</td>\n",
       "      <td>1</td>\n",
       "      <td>0</td>\n",
       "      <td>0</td>\n",
       "    </tr>\n",
       "  </tbody>\n",
       "</table>\n",
       "</div>"
      ],
      "text/plain": [
       "                                       original_text  \\\n",
       "0  Japón registró un nuevo déficit comercial réco...   \n",
       "1  UDI acusa \"mala memoria\" de la Nueva Mayoría f...   \n",
       "2  La misteriosa oferta por Esteban Paredes que i...   \n",
       "3  La familia maratón que causó revuelo en Holand...   \n",
       "4   Crean sitio web que recopila mangas descontin...   \n",
       "\n",
       "                                     preprocess_text  \\\n",
       "0  japón registró un nuevo déficit comercial réco...   \n",
       "1  udi acusa mala memoria de la nueva mayoría fre...   \n",
       "2  la misteriosa oferta por esteban paredes que [...   \n",
       "3  la familia maratón que causó revuelo en holand...   \n",
       "4  crean sitio web que [UNK] [UNK] [UNK] para [UN...   \n",
       "\n",
       "                                             encoded        frames  conflicto  \\\n",
       "0  [8759, 8914, 9989, 9898, 6584, 8773, 8428, 999...  [0, 1, 0, 0]          0   \n",
       "1  [9610, 8486, 8448, 7205, 10001, 9999, 9927, 97...  [1, 0, 0, 1]          1   \n",
       "2  [9999, 1121, 8346, 9990, 8487, 8596, 9996, 1, ...  [1, 0, 0, 0]          1   \n",
       "3  [9999, 9668, 5417, 9996, 7388, 2016, 9997, 887...  [0, 0, 1, 0]          0   \n",
       "4  [2420, 9319, 9360, 9996, 1, 1, 1, 9985, 1, 998...  [0, 1, 0, 0]          0   \n",
       "\n",
       "   economico  humanidad  moral  \n",
       "0          1          0      0  \n",
       "1          0          0      1  \n",
       "2          0          0      0  \n",
       "3          0          1      0  \n",
       "4          1          0      0  "
      ]
     },
     "execution_count": 16,
     "metadata": {},
     "output_type": "execute_result"
    }
   ],
   "source": [
    "vocabulary_set = set([x[0] for x in vocabulary])\n",
    "\n",
    "preprocess_text = []\n",
    "for i, x in df.iterrows():\n",
    "    text = x.text.split()\n",
    "    new_text = []\n",
    "    for word in text:\n",
    "        if word in vocabulary_set:\n",
    "            new_text.append(word)\n",
    "        elif word.isnumeric():\n",
    "            new_text.append(\"[NUM]\")\n",
    "        else:\n",
    "            new_text.append(\"[UNK]\")\n",
    "            \n",
    "    preprocess_text.append(\" \".join(new_text))\n",
    "    \n",
    "df['preprocess_text'] = preprocess_text\n",
    "\n",
    "# Creating vocabulary\n",
    "vocab = [x.strip().split(\": \")[0] for x in open(\"vocabulary_corpus_counter.txt\", encoding=\"UTF-8\").readlines()]\n",
    "\n",
    "vocab_to_idx = {\"[PAD]\":0, \"[UNK]\":1}\n",
    "for word in vocab:\n",
    "    vocab_to_idx[word] = len(vocab_to_idx)\n",
    "    \n",
    "def encode_sentence(text, vocab_to_idx):\n",
    "    enc1 = [vocab_to_idx.get(word, 1) for word in text.split()]\n",
    "    return np.array(enc1)\n",
    "\n",
    "df['encoded'] = df['preprocess_text'].apply(lambda x: np.array(encode_sentence(x, vocab_to_idx)))\n",
    "\n",
    "df[\"conflicto\"] = [x[0] for x in df.frames]\n",
    "df[\"economico\"] = [x[1] for x in df.frames]\n",
    "df[\"humanidad\"] = [x[2] for x in df.frames]\n",
    "df[\"moral\"] = [x[3] for x in df.frames]\n",
    "\n",
    "del df[\"text\"]\n",
    "df = df[['original_text', 'preprocess_text', 'encoded', 'frames', 'conflicto', 'economico', 'humanidad', 'moral']]\n",
    "df.head()"
   ]
  },
  {
   "cell_type": "code",
   "execution_count": 17,
   "metadata": {},
   "outputs": [],
   "source": [
    "# Save dataset\n",
    "np.save(\"datasets/preprocess_dataset.npy\", df.values)"
   ]
  },
  {
   "cell_type": "code",
   "execution_count": 18,
   "metadata": {},
   "outputs": [
    {
     "data": {
      "image/png": "[encoded data removed]",
      "text/plain": [
       "<Figure size 640x480 with 1 Axes>"
      ]
     },
     "metadata": {},
     "output_type": "display_data"
    }
   ],
   "source": [
    "histogram = []\n",
    "for i, x in df.iterrows():\n",
    "    text = x.preprocess_text.split()\n",
    "    count = sum([1 for x in text if x != \"[UNK]\"])\n",
    "    histogram.append(count)\n",
    "        \n",
    "# the histogram of the data\n",
    "#_, bins, _ = plt.hist(histogram)\n",
    "g = sns.histplot(data=histogram)\n",
    "g.set(xlim=(0, 1000))\n",
    "g.set_title('Word distribution per news article')\n",
    "g.set_xlabel('# words per article')\n",
    "g.set_ylabel('Frequency')\n",
    "plt.show()"
   ]
  },
  {
   "cell_type": "code",
   "execution_count": 27,
   "metadata": {},
   "outputs": [
    {
     "data": {
      "text/plain": [
       "array([199., 399.])"
      ]
     },
     "execution_count": 27,
     "metadata": {},
     "output_type": "execute_result"
    }
   ],
   "source": [
    "# Calculate percentiles\n",
    "np.percentile(histogram, [26, 70])"
   ]
  },
  {
   "cell_type": "code",
   "execution_count": 28,
   "metadata": {},
   "outputs": [
    {
     "data": {
      "text/plain": [
       "357.82058047493405"
      ]
     },
     "execution_count": 28,
     "metadata": {},
     "output_type": "execute_result"
    }
   ],
   "source": [
    "# Calculate mean\n",
    "np.mean(histogram)"
   ]
  },
  {
   "cell_type": "code",
   "execution_count": 29,
   "metadata": {},
   "outputs": [
    {
     "data": {
      "text/plain": [
       "404.4687777093236"
      ]
     },
     "execution_count": 29,
     "metadata": {},
     "output_type": "execute_result"
    }
   ],
   "source": [
    "# Calculate std\n",
    "np.std(histogram)"
   ]
  },
  {
   "cell_type": "code",
   "execution_count": 30,
   "metadata": {},
   "outputs": [],
   "source": [
    "# Extract the pre-processed data\n",
    "columns = ['original_text', 'preprocess_text', 'encoded', 'frames',\n",
    "           'conflicto', 'economico', 'humanidad', 'moral']\n",
    "\n",
    "df = np.load(\"datasets/preprocess_dataset.npy\", allow_pickle=True)\n",
    "df = pd.DataFrame(df, columns=columns)"
   ]
  },
  {
   "cell_type": "code",
   "execution_count": 31,
   "metadata": {},
   "outputs": [
    {
     "name": "stdout",
     "output_type": "stream",
     "text": [
      "conflicto    1117\n",
      "economico     550\n",
      "humanidad    1497\n",
      "moral         754\n",
      "dtype: object\n"
     ]
    }
   ],
   "source": [
    "# Calculate the number of articles with frames\n",
    "labels_df = df[['conflicto', 'economico', 'humanidad', 'moral']]\n",
    "print(labels_df.sum(axis=0))"
   ]
  },
  {
   "cell_type": "code",
   "execution_count": 32,
   "metadata": {},
   "outputs": [
    {
     "name": "stdout",
     "output_type": "stream",
     "text": [
      "\n",
      "Percentage\n",
      "\n",
      "conflicto    32.746995\n",
      "economico    16.124304\n",
      "humanidad    43.887423\n",
      "moral        22.104955\n",
      "dtype: object\n"
     ]
    }
   ],
   "source": [
    "# Calculate the percentage of frames distribution\n",
    "print(\"\\nPercentage\\n\")\n",
    "print(100*labels_df.sum(axis=0)/len(df))"
   ]
  },
  {
   "cell_type": "code",
   "execution_count": 33,
   "metadata": {},
   "outputs": [
    {
     "data": {
      "text/plain": [
       "3918"
      ]
     },
     "execution_count": 33,
     "metadata": {},
     "output_type": "execute_result"
    }
   ],
   "source": [
    "# Calculate the number of news articles by frame. \n",
    "# Since articles can have more than one frame, the sum will be bigger than the actual number of news articles.\n",
    "labels_df.sum().sum()"
   ]
  },
  {
   "cell_type": "code",
   "execution_count": 35,
   "metadata": {},
   "outputs": [],
   "source": [
    "# Count the number of articles by article\n",
    "count_df = df.value_counts(['conflicto', 'economico', 'humanidad', 'moral'])"
   ]
  },
  {
   "cell_type": "code",
   "execution_count": 36,
   "metadata": {},
   "outputs": [
    {
     "data": {
      "text/html": [
       "<div>\n",
       "<style scoped>\n",
       "    .dataframe tbody tr th:only-of-type {\n",
       "        vertical-align: middle;\n",
       "    }\n",
       "\n",
       "    .dataframe tbody tr th {\n",
       "        vertical-align: top;\n",
       "    }\n",
       "\n",
       "    .dataframe thead th {\n",
       "        text-align: right;\n",
       "    }\n",
       "</style>\n",
       "<table border=\"1\" class=\"dataframe\">\n",
       "  <thead>\n",
       "    <tr style=\"text-align: right;\">\n",
       "      <th></th>\n",
       "      <th>conflicto</th>\n",
       "      <th>economico</th>\n",
       "      <th>humanidad</th>\n",
       "      <th>moral</th>\n",
       "    </tr>\n",
       "  </thead>\n",
       "  <tbody>\n",
       "    <tr>\n",
       "      <th>conflicto</th>\n",
       "      <td>1.000</td>\n",
       "      <td>0.024</td>\n",
       "      <td>0.074</td>\n",
       "      <td>0.301</td>\n",
       "    </tr>\n",
       "    <tr>\n",
       "      <th>economico</th>\n",
       "      <td>0.024</td>\n",
       "      <td>1.000</td>\n",
       "      <td>-0.058</td>\n",
       "      <td>0.003</td>\n",
       "    </tr>\n",
       "    <tr>\n",
       "      <th>humanidad</th>\n",
       "      <td>0.074</td>\n",
       "      <td>-0.058</td>\n",
       "      <td>1.000</td>\n",
       "      <td>0.093</td>\n",
       "    </tr>\n",
       "    <tr>\n",
       "      <th>moral</th>\n",
       "      <td>0.301</td>\n",
       "      <td>0.003</td>\n",
       "      <td>0.093</td>\n",
       "      <td>1.000</td>\n",
       "    </tr>\n",
       "  </tbody>\n",
       "</table>\n",
       "</div>"
      ],
      "text/plain": [
       "           conflicto  economico  humanidad  moral\n",
       "conflicto      1.000      0.024      0.074  0.301\n",
       "economico      0.024      1.000     -0.058  0.003\n",
       "humanidad      0.074     -0.058      1.000  0.093\n",
       "moral          0.301      0.003      0.093  1.000"
      ]
     },
     "execution_count": 36,
     "metadata": {},
     "output_type": "execute_result"
    }
   ],
   "source": [
    "# Calculate the correlations among frames.\n",
    "round(labels_df.astype(float).corr(),3)"
   ]
  },
  {
   "cell_type": "code",
   "execution_count": 37,
   "metadata": {},
   "outputs": [
    {
     "name": "stdout",
     "output_type": "stream",
     "text": [
      "0     973\n",
      "1    1352\n",
      "2     732\n",
      "3     314\n",
      "4      40\n",
      "Name: frames, dtype: int64\n"
     ]
    }
   ],
   "source": [
    "# Frequency of news articles with 0, 1, 2, 3, and 4 frames\n",
    "count_frames = df.frames.map(lambda x: sum(x))\n",
    "print(count_frames.value_counts().sort_index())"
   ]
  },
  {
   "cell_type": "code",
   "execution_count": 38,
   "metadata": {},
   "outputs": [
    {
     "name": "stdout",
     "output_type": "stream",
     "text": [
      "\n",
      "Percentage\n",
      "\n",
      "0    0.285254\n",
      "1    0.396365\n",
      "2    0.214600\n",
      "3    0.092055\n",
      "4    0.011727\n",
      "Name: frames, dtype: float64\n"
     ]
    }
   ],
   "source": [
    "# Percentage of news articles with 0, 1, 2, 3, and 4 frames\n",
    "print(\"\\nPercentage\\n\")\n",
    "print(count_frames.value_counts().sort_index()/count_frames.value_counts().sum())"
   ]
  },
  {
   "cell_type": "code",
   "execution_count": 39,
   "metadata": {},
   "outputs": [
    {
     "data": {
      "text/plain": [
       "conflicto  economico  humanidad  moral\n",
       "0          0          0          0        973\n",
       "                                 1        132\n",
       "                      1          0        701\n",
       "                                 1        132\n",
       "           1          0          0        222\n",
       "                                 1         19\n",
       "                      1          0         91\n",
       "                                 1         24\n",
       "1          0          0          0        297\n",
       "                                 1        167\n",
       "                      1          0        259\n",
       "                                 1        200\n",
       "           1          0          0         64\n",
       "                                 1         40\n",
       "                      1          0         50\n",
       "                                 1         40\n",
       "dtype: int64"
      ]
     },
     "execution_count": 39,
     "metadata": {},
     "output_type": "execute_result"
    }
   ],
   "source": [
    "# News article frequency by combination\n",
    "count_df.sort_index()"
   ]
  },
  {
   "cell_type": "markdown",
   "metadata": {},
   "source": [
    "# Load datasets y calculate embeddings\n",
    "- FastText\n",
    "- Elmo\n",
    "- Beto"
   ]
  },
  {
   "cell_type": "code",
   "execution_count": null,
   "metadata": {},
   "outputs": [],
   "source": [
    "columns = ['original_text', 'preprocess_text', 'encoded', 'frames', 'conflicto', 'economico', 'humanidad', 'moral']\n",
    "\n",
    "df = np.load(\"datasets/preprocess_dataset.npy\", allow_pickle=True)\n",
    "df = pd.DataFrame(df, columns=columns)\n",
    "\n",
    "df.head()"
   ]
  },
  {
   "cell_type": "markdown",
   "metadata": {},
   "source": [
    "# Embeddings  "
   ]
  },
  {
   "cell_type": "markdown",
   "metadata": {},
   "source": [
    "## Beto"
   ]
  },
  {
   "cell_type": "code",
   "execution_count": null,
   "metadata": {},
   "outputs": [],
   "source": [
    "import torch\n",
    "from transformers import BertConfig, BertTokenizer, BertForPreTraining\n",
    "from torch.utils.data import DataLoader, TensorDataset   \n",
    "\n",
    "        \n",
    "class InputFeatures(object):\n",
    "    \"\"\"A single set of features of data.\"\"\"\n",
    "    def __init__(self, input_ids, input_mask, segment_ids):\n",
    "        self.input_ids = input_ids\n",
    "        self.input_mask = input_mask\n",
    "        self.segment_ids = segment_ids\n",
    "\n",
    "\n",
    "def convert_example_to_feature(example_row):\n",
    "    text, max_seq_length, tokenizer, cls_token, sep_token = example_row\n",
    "    tokens_a = tokenizer.tokenize(text)\n",
    "    \n",
    "    # Account for [CLS] and [SEP] with \"- 2\"\n",
    "    special_tokens_count = 2\n",
    "    tokens_a = tokens_a[:(max_seq_length - special_tokens_count)]\n",
    "    tokens = tokens_a + [sep_token]\n",
    "    segment_ids = [0] * len(tokens)\n",
    "\n",
    "    tokens = [cls_token] + tokens\n",
    "    segment_ids = [0] + segment_ids\n",
    "\n",
    "    input_ids = tokenizer.convert_tokens_to_ids(tokens)\n",
    "\n",
    "    # The mask has 1 for real tokens and 0 for padding tokens. Only real\n",
    "    # tokens are attended to.\n",
    "    input_mask = [1] * len(input_ids)\n",
    "\n",
    "    # Zero-pad up to the sequence length.\n",
    "    padding_length = max_seq_length - len(input_ids)\n",
    "    \n",
    "    input_ids = input_ids + ([0] * padding_length)\n",
    "    input_mask = input_mask + ([0] * padding_length)\n",
    "    segment_ids = segment_ids + ([0] * padding_length)\n",
    "\n",
    "    assert len(input_ids) == max_seq_length\n",
    "    assert len(input_mask) == max_seq_length\n",
    "    assert len(segment_ids) == max_seq_length\n",
    "\n",
    "    return InputFeatures(\n",
    "        input_ids=input_ids,\n",
    "        input_mask=input_mask,\n",
    "        segment_ids=segment_ids,\n",
    "    )\n",
    "\n",
    "\n",
    "def convert_examples_to_features(texts, max_seq_length, tokenizer, cls_token, sep_token):\n",
    "    examples = [(text, max_seq_length, tokenizer, cls_token, sep_token) for text in texts]\n",
    "    return [convert_example_to_feature(example) for example in examples]\n",
    "\n",
    "\n",
    "\n",
    "class BetoEmbedding:\n",
    "    def __init__(self, take_mean=True):\n",
    "        self.tokenizer = BertTokenizer.from_pretrained('vocab.txt', keep_accents=True)\n",
    "        config = BertConfig.from_json_file('bert_config.json')\n",
    "        config.output_hidden_states = True\n",
    "        self.bert = BertForPreTraining.from_pretrained('pytorch_model.bin', config=config)\n",
    "        for p in self.bert.parameters():\n",
    "            p.requires_grad = False\n",
    "            \n",
    "        self.take_mean = take_mean\n",
    "\n",
    "    def __call__(self, X):\n",
    "        \n",
    "        tokenizer = self.tokenizer\n",
    "        features = convert_examples_to_features(X, 512, tokenizer, tokenizer.cls_token,tokenizer.sep_token)\n",
    "\n",
    "        all_input_ids = torch.tensor([f.input_ids for f in features], dtype=torch.long)\n",
    "        all_input_mask = torch.tensor([f.input_mask for f in features], dtype=torch.long)\n",
    "        all_segment_ids = torch.tensor([f.segment_ids for f in features], dtype=torch.long)\n",
    "\n",
    "        train_dataset = TensorDataset(all_input_ids, all_input_mask, all_segment_ids)\n",
    "        train_dataloader = DataLoader(train_dataset, batch_size=8, shuffle=False)\n",
    "        device = torch.device(\"cuda\")\n",
    "        \n",
    "        self.bert.to(device)\n",
    "\n",
    "        CLS_VECTORS = None\n",
    "\n",
    "        for batch in train_dataloader:\n",
    "            input_ids, attention_mask, token_type_ids = tuple(t.to(device) for t in batch)\n",
    "\n",
    "            outputs = self.bert(input_ids, attention_mask, token_type_ids)\n",
    "                        \n",
    "            # outputs[-1] = salidas de las capas ocultas (hidden_iniciales, capa_1, ..., capa_12)\n",
    "            outputs = outputs[-1][-1] # Tomar de las hidden_state, la última capa\n",
    "\n",
    "            if self.take_mean:\n",
    "                output = torch.mean(outputs, 1)\n",
    "            else:\n",
    "                output = outputs[:, 0, :] # Tomar el primer vector (CLS)\n",
    "                \n",
    "            if CLS_VECTORS is None:\n",
    "                CLS_VECTORS = output.detach().cpu().numpy()\n",
    "            else:\n",
    "                CLS_VECTORS = np.append(CLS_VECTORS, output.detach().cpu().numpy(), axis=0)\n",
    "\n",
    "        return CLS_VECTORS"
   ]
  },
  {
   "cell_type": "code",
   "execution_count": null,
   "metadata": {},
   "outputs": [],
   "source": [
    "def get_beto_embedding(x):\n",
    "    torch.manual_seed(4444)\n",
    "    np.random.seed(4444)\n",
    "    \n",
    "    x = np.array([\" \".join(text.split(\" \")[:510]) for text in x])\n",
    "    return BetoEmbedding(take_mean=True)(x)\n",
    "\n",
    "beto_embedding_dataset = get_beto_embedding(df.preprocess_text)"
   ]
  },
  {
   "cell_type": "code",
   "execution_count": null,
   "metadata": {},
   "outputs": [],
   "source": [
    "np.save(\"datasets/beto_embedding_mean_dataset.npy\", beto_embedding_dataset)"
   ]
  },
  {
   "cell_type": "code",
   "execution_count": null,
   "metadata": {},
   "outputs": [],
   "source": [
    "def get_beto_embedding(x):\n",
    "    torch.manual_seed(4444)\n",
    "    np.random.seed(4444)\n",
    "    \n",
    "    x = np.array([\" \".join(text.split(\" \")[:510]) for text in x])\n",
    "    return BetoEmbedding(take_mean=False)(x)\n",
    "\n",
    "\n",
    "beto_embedding_dataset = get_beto_embedding(df.preprocess_text)"
   ]
  },
  {
   "cell_type": "code",
   "execution_count": null,
   "metadata": {},
   "outputs": [],
   "source": [
    "np.save(\"datasets/beto_embedding_cls_dataset.npy\", beto_embedding_dataset)"
   ]
  },
  {
   "cell_type": "markdown",
   "metadata": {},
   "source": [
    "## Elmo"
   ]
  },
  {
   "cell_type": "code",
   "execution_count": null,
   "metadata": {},
   "outputs": [],
   "source": [
    "import json\n",
    "import numpy as np\n",
    "from ELMoForManyLangs.elmoformanylangs import Embedder\n",
    "\n",
    "elmo = Embedder('ElMoSpanishEmbedding/')\n",
    "clear_output()"
   ]
  },
  {
   "cell_type": "code",
   "execution_count": null,
   "metadata": {},
   "outputs": [],
   "source": [
    "original = torch.cuda.is_available\n",
    "\n",
    "torch.cuda.is_available = lambda :False"
   ]
  },
  {
   "cell_type": "code",
   "execution_count": null,
   "metadata": {},
   "outputs": [],
   "source": [
    "torch.cuda.is_available()"
   ]
  },
  {
   "cell_type": "code",
   "execution_count": null,
   "metadata": {},
   "outputs": [],
   "source": [
    "import logging\n",
    "\n",
    "# Desabilitamos el logging para que la librería de ELMo no haga prints\n",
    "logger = logging.getLogger()\n",
    "logger.disabled = True\n",
    "\n",
    "def save_elmo(df, filename):\n",
    "    max_length_text = 512\n",
    "\n",
    "    total = len(df)\n",
    "    elmo_embedding = []\n",
    "    for i, text in enumerate(df.preprocess_text):\n",
    "        print(f\"\\r{i}/{total}\", end=\"\")\n",
    "\n",
    "        embedding = elmo.sents2elmo([text.split()[:max_length_text]], output_layer=-1)[0]\n",
    "        elmo_embedding.append(np.mean(embedding, axis=0))\n",
    "\n",
    "    data_elmo =  np.array(elmo_embedding)\n",
    "\n",
    "    # Salvar Elmo Embeddings comprimodo\n",
    "    np.savez_compressed(f'datasets/{filename}.npz', data_elmo)\n",
    "    print(\"\")\n",
    "    \n",
    "save_elmo(df, \"elmo_dataset\")\n",
    "\n",
    "logger.disabled = False"
   ]
  },
  {
   "cell_type": "markdown",
   "metadata": {},
   "source": [
    "## FastText"
   ]
  },
  {
   "cell_type": "code",
   "execution_count": null,
   "metadata": {},
   "outputs": [],
   "source": [
    "from gensim.models.keyedvectors import KeyedVectors\n",
    "\n",
    "wordvectors_file_vec = 'embeddings-l-model.vec'\n",
    "wordvectors = KeyedVectors.load_word2vec_format(wordvectors_file_vec)"
   ]
  },
  {
   "cell_type": "code",
   "execution_count": null,
   "metadata": {},
   "outputs": [],
   "source": [
    "# Generamos diccionario de fastText\n",
    "fastText = {}\n",
    "\n",
    "import nltk\n",
    "from nltk.corpus import stopwords  \n",
    "\n",
    "nltk.download('stopwords')\n",
    "spanish_stopwords = set(stopwords.words('spanish') + [\"[UNK]\", \"[NUM]\"] )\n",
    "\n",
    "\n",
    "def apply_FastText(text):\n",
    "    data = []\n",
    "    for i, word in enumerate(text):\n",
    "        \n",
    "        if word in spanish_stopwords:\n",
    "            continue\n",
    "            \n",
    "        if word in wordvectors:\n",
    "            data.append(wordvectors[word])\n",
    "            \n",
    "    return np.mean(np.array(data), axis=0)\n",
    "\n",
    "\n",
    "def save_fastText(texts, filename):\n",
    "    total = len(texts)\n",
    "    fastText_data = []\n",
    "    \n",
    "    for i, text in enumerate(texts):\n",
    "        print(f\"\\r{i}/{total}\", end=\"\")\n",
    "        embedding = apply_FastText(text.split())\n",
    "        fastText_data.append(embedding)\n",
    "\n",
    "    fastText_data =  np.array(fastText_data)\n",
    "\n",
    "    # Salvar Falstext Embeddings comprimodo\n",
    "    np.savez_compressed(f'datasets/{filename}.npz', fastText_data)\n",
    "    print()\n",
    "\n",
    "save_fastText(df.preprocess_text, \"fasttext_dataset\")"
   ]
  }
 ],
 "metadata": {
  "kernelspec": {
   "display_name": "Python 3",
   "language": "python",
   "name": "python3"
  },
  "language_info": {
   "codemirror_mode": {
    "name": "ipython",
    "version": 3
   },
   "file_extension": ".py",
   "mimetype": "text/x-python",
   "name": "python",
   "nbconvert_exporter": "python",
   "pygments_lexer": "ipython3",
   "version": "3.9.15"
  }
 },
 "nbformat": 4,
 "nbformat_minor": 4
}
